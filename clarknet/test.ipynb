{
 "cells": [
  {
   "cell_type": "code",
   "execution_count": null,
   "metadata": {},
   "outputs": [],
   "source": [
    "import sys\n",
    "sys.path.append(\"../worldcup\")\n",
    "from hybrid import Hybrid\n",
    "import pandas as pd"
   ]
  },
  {
   "cell_type": "code",
   "execution_count": null,
   "metadata": {},
   "outputs": [],
   "source": [
    "freq = 60\n",
    "df = pd.read_csv(\"../data/clean_minutes.csv\", index_col=0, parse_dates=True)\n",
    "downsampled_df = df.resample(str(freq) + \"T\").mean()\n",
    "data = downsampled_df[\"view\"].values"
   ]
  },
  {
   "cell_type": "code",
   "execution_count": null,
   "metadata": {},
   "outputs": [],
   "source": [
    "len(data)"
   ]
  },
  {
   "cell_type": "code",
   "execution_count": null,
   "metadata": {},
   "outputs": [],
   "source": [
    "hybrid = Hybrid(sarima_order=(4,1,2), sarima_seasonal_order=(2,1,1,24))"
   ]
  },
  {
   "cell_type": "code",
   "execution_count": null,
   "metadata": {},
   "outputs": [],
   "source": [
    "from sklearn.metrics import mean_squared_error\n",
    "\n",
    "window_size = 300\n",
    "refit = False\n",
    "\n",
    "actuals = []\n",
    "hybrid_predictions = []\n",
    "sarima_predictions = []\n",
    "naive_predictions = []\n",
    "\n",
    "lstm_residual_predictions = []\n",
    "residual_actuals = []\n",
    "\n",
    "\n",
    "\n",
    "for t in range(window_size, len(data)):\n",
    "  print(f\"{t+1} / {len(data)}\")\n",
    "  \n",
    "  actual = data[t]\n",
    "  \n",
    "  train_data = data[t - window_size : t]\n",
    "  actual = data[t]\n",
    "  \n",
    "  naive_predictions.append(data[t-1])\n",
    "  \n",
    "  # Fit hybrid\n",
    "  hybrid.fit(train_data)\n",
    "  \n",
    "  forecast = hybrid.forecast(horizon=1)\n",
    "  \n",
    "  hybrid_predictions.append(forecast[\"hybrid_forecast\"])\n",
    "  sarima_predictions.append(forecast[\"sarima_forecast\"])\n",
    "  lstm_residual_predictions.append(forecast[\"lstm_residual_forecast\"])\n",
    "  residual_actuals.append(actual - forecast[\"sarima\"])\n",
    "  actuals.append(actual)"
   ]
  },
  {
   "cell_type": "code",
   "execution_count": null,
   "metadata": {},
   "outputs": [],
   "source": [
    "\n",
    "from matplotlib import pyplot as plt\n",
    "from sklearn.metrics import mean_absolute_error\n",
    "\n",
    "\n",
    "hybrid_mse = mean_squared_error(hybrid_predictions, actuals)\n",
    "naive_mse = mean_squared_error(naive_predictions, actuals)\n",
    "sarima_mse = mean_squared_error(sarima_predictions, actuals)\n",
    "\n",
    "hybrid_mae = mean_absolute_error(hybrid_predictions, actuals)\n",
    "naive_mae = mean_absolute_error(naive_predictions, actuals)\n",
    "sarima_mae = mean_absolute_error(sarima_predictions, actuals)\n",
    "\n",
    "print(\"hybrid_mae\", hybrid_mae)\n",
    "print(\"naive_mae\", naive_mae)\n",
    "print(\"sarima_mae\", sarima_mae)\n",
    "\n",
    "\n",
    "plt.plot(actuals, label=\"Actual\")\n",
    "plt.plot(hybrid_predictions, label=\"Hybrid\")\n",
    "plt.plot(naive_predictions, label=\"Naive\")\n",
    "# plt.plot(sarima_predictions, label=\"SARIMA\")\n",
    "plt.xlabel(\"Time  (Hour)\")\n",
    "plt.ylabel(\"Requests\")\n",
    "plt.legend()\n",
    "\n",
    "mse_text = (\n",
    "    f\"Hybrid MSE: {hybrid_mse:.2f}\\n\"\n",
    "    f\"Naive MSE: {naive_mse:.2f}\\n\"\n",
    "    f\"SARIMA MSE: {sarima_mse:.2f}\"\n",
    ")\n",
    "plt.text(0.01, 0.95, mse_text, transform=plt.gca().transAxes,\n",
    "         fontsize=10, verticalalignment='top', bbox=dict(facecolor='white', alpha=0.7))\n",
    "\n",
    "plt.tight_layout()\n",
    "# filename= f\"figures/ARIMA({p},{d},{q})({P},{D},{Q})-norefit-onestep-scaled.png\"\n",
    "# plt.savefig(filename, dpi=300)\n",
    "# print(f\"Saved figure to {filename}\")\n",
    "plt.show()"
   ]
  },
  {
   "cell_type": "code",
   "execution_count": null,
   "metadata": {},
   "outputs": [],
   "source": []
  }
 ],
 "metadata": {
  "kernelspec": {
   "display_name": ".venv",
   "language": "python",
   "name": "python3"
  },
  "language_info": {
   "codemirror_mode": {
    "name": "ipython",
    "version": 3
   },
   "file_extension": ".py",
   "mimetype": "text/x-python",
   "name": "python",
   "nbconvert_exporter": "python",
   "pygments_lexer": "ipython3",
   "version": "3.12.7"
  }
 },
 "nbformat": 4,
 "nbformat_minor": 2
}
