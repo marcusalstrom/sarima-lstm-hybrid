{
 "cells": [
  {
   "cell_type": "code",
   "execution_count": null,
   "metadata": {},
   "outputs": [],
   "source": [
    "import pandas as pd\n",
    "import numpy as np\n",
    "import matplotlib.pyplot as plt\n",
    "import pmdarima as pm\n",
    "import statsmodels\n",
    "from pmdarima import model_selection\n",
    "import math\n",
    "import pickle\n",
    "from sklearn.metrics import mean_squared_error"
   ]
  },
  {
   "cell_type": "code",
   "execution_count": null,
   "metadata": {},
   "outputs": [],
   "source": [
    "dataset = \"worldcup98_may_minute\"\n",
    "df = pd.read_csv(\"../data/\" + dataset + \".csv\", index_col=0, parse_dates=True)\n",
    "plt.plot(df)\n",
    "plt.show()\n",
    "print(df)"
   ]
  },
  {
   "cell_type": "code",
   "execution_count": null,
   "metadata": {},
   "outputs": [],
   "source": [
    "freq = 20\n",
    "downsampled_df = df.resample(str(freq) + \"T\").mean()\n",
    "seasonal_order = (24 * 60) // freq\n",
    "split = 0.8\n",
    "\n",
    "raw_data = np.asarray(downsampled_df[\"count\"])\n",
    "# train_size = math.floor(len(raw_data) * split)\n",
    "train_size = 2000 # same as initial window size\n",
    "train, test = model_selection.train_test_split(raw_data, train_size=train_size)\n",
    "plt.plot(downsampled_df.index[:train_size], train, label=\"Train\")\n",
    "plt.plot(downsampled_df.index[train_size:], test, label=\"Test\")\n",
    "plt.legend()\n",
    "plt.show()"
   ]
  },
  {
   "cell_type": "code",
   "execution_count": null,
   "metadata": {},
   "outputs": [],
   "source": [
    "diff = pm.arima.ndiffs(train, max_d=5)\n",
    "seasonal_diff = pm.arima.nsdiffs(train, seasonal_order, max_D=5)\n",
    "print(diff, seasonal_diff)"
   ]
  },
  {
   "cell_type": "code",
   "execution_count": null,
   "metadata": {},
   "outputs": [],
   "source": [
    "from datetime import datetime\n",
    "\n",
    "start = datetime.now()\n",
    "\n",
    "model = pm.auto_arima(train, seasonal=True, m=seasonal_order, suppress_warnings=False, d=1, D=1, start_p=0, start_q=0, max_order=6, stepwise=True, trace=True)\n",
    "\n",
    "end = datetime.now()\n",
    "\n",
    "print(\"Estimated in \" + str(end - start))\n"
   ]
  },
  {
   "cell_type": "code",
   "execution_count": null,
   "metadata": {},
   "outputs": [],
   "source": [
    "model.summary()"
   ]
  },
  {
   "cell_type": "code",
   "execution_count": null,
   "metadata": {},
   "outputs": [],
   "source": [
    "forecasts = model.predict(len(test))"
   ]
  },
  {
   "cell_type": "code",
   "execution_count": null,
   "metadata": {},
   "outputs": [],
   "source": [
    "plt.plot(forecasts, label=\"forecast\")\n",
    "plt.plot(test, label=\"actual\")\n",
    "plt.legend()\n",
    "plt.show()"
   ]
  },
  {
   "cell_type": "code",
   "execution_count": null,
   "metadata": {},
   "outputs": [],
   "source": []
  }
 ],
 "metadata": {
  "kernelspec": {
   "display_name": ".venv",
   "language": "python",
   "name": "python3"
  },
  "language_info": {
   "codemirror_mode": {
    "name": "ipython",
    "version": 3
   },
   "file_extension": ".py",
   "mimetype": "text/x-python",
   "name": "python",
   "nbconvert_exporter": "python",
   "pygments_lexer": "ipython3",
   "version": "3.12.7"
  }
 },
 "nbformat": 4,
 "nbformat_minor": 2
}
