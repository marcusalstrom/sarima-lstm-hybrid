{
 "cells": [
  {
   "cell_type": "code",
   "execution_count": null,
   "metadata": {},
   "outputs": [],
   "source": [
    "import pandas as pd\n",
    "import numpy as np\n",
    "import matplotlib.pyplot as plt\n",
    "import pmdarima as pm\n",
    "import statsmodels\n",
    "from pmdarima import model_selection\n",
    "import math\n",
    "import pickle\n",
    "from sklearn.metrics import mean_squared_error, mean_absolute_error\n",
    "from statsmodels.tsa.statespace.sarimax import SARIMAX\n",
    "from datetime import datetime\n",
    "\n",
    "from sklearn.preprocessing import MinMaxScaler, StandardScaler\n",
    "\n",
    "from tensorflow.keras.models import Sequential\n",
    "from tensorflow.keras.layers import LSTM, Dense, Dropout, Activation\n",
    "from tensorflow.keras.callbacks import EarlyStopping, ReduceLROnPlateau\n",
    "from tensorflow.keras.optimizers import Adam\n",
    "from tensorflow.keras.models import Sequential"
   ]
  },
  {
   "cell_type": "markdown",
   "metadata": {},
   "source": [
    "Fit SARIMA model"
   ]
  },
  {
   "cell_type": "code",
   "execution_count": null,
   "metadata": {},
   "outputs": [],
   "source": [
    "freq = 60\n",
    "df = pd.read_csv(\"../data/worldcup98_may_minute.csv\", index_col=0, parse_dates=True)\n",
    "downsampled_df = df.resample(str(freq) + \"T\").mean()\n",
    "downsampled_df"
   ]
  },
  {
   "cell_type": "code",
   "execution_count": null,
   "metadata": {},
   "outputs": [],
   "source": [
    "freq = 60\n",
    "seasonal_order = (24 * 60) // freq\n",
    "split = 0.8\n",
    "\n",
    "raw_data = np.asarray(downsampled_df[\"count\"])\n",
    "train_size = math.floor(len(raw_data) * split)\n",
    "train, test = model_selection.train_test_split(raw_data, train_size=train_size)\n",
    "plt.plot(downsampled_df)\n",
    "plt.show()"
   ]
  },
  {
   "cell_type": "code",
   "execution_count": null,
   "metadata": {},
   "outputs": [],
   "source": [
    "p,d,q = (4,1,2)\n",
    "P,D,Q = (4,1,1)\n",
    "m = (24 * 60) / 60\n",
    "\n",
    "def fit_sarima(train_data, freq=60, params=(p,d,q), seasonal_params=(P,D,Q)):   #ARIMA(4,1,0)(2,1,0)[24] \n",
    "    seasonal_period = (24 * 60) // freq\n",
    "    seasonal_order = seasonal_params + (seasonal_period,)\n",
    "    print(f\"Fitting SARIMA\")\n",
    "    start = datetime.now()\n",
    "    model = SARIMAX(train_data, order=params, seasonal_order=seasonal_order)\n",
    "    model_fit = model.fit()\n",
    "    end = datetime.now()\n",
    "    print(f\"Fit SARIMA in {str(end-start)}\")\n",
    "    return model_fit"
   ]
  },
  {
   "cell_type": "code",
   "execution_count": null,
   "metadata": {},
   "outputs": [],
   "source": [
    "def build_lstm_model(input_shape):\n",
    "    model = Sequential()\n",
    "    model.add(LSTM(128, return_sequences=True, activation='relu', input_shape=input_shape))\n",
    "    model.add(Dropout(0.2))\n",
    "    model.add(LSTM(96))\n",
    "    model.add(Dense(1))\n",
    "    model.compile(optimizer='adam', loss='mse')\n",
    "    return model"
   ]
  },
  {
   "cell_type": "code",
   "execution_count": null,
   "metadata": {},
   "outputs": [],
   "source": [
    "def fit_lstm(residuals, n_lags=5, epochs=10):\n",
    "    X, y = [], []\n",
    "    for i in range(n_lags, len(residuals)):\n",
    "        X.append(residuals[i - n_lags:i])\n",
    "        y.append(residuals[i])\n",
    "    X, y = np.array(X), np.array(y)\n",
    "    X = X.reshape((X.shape[0], X.shape[1], 1))\n",
    "    \n",
    "    model = build_lstm_model((X.shape[1], 1))\n",
    "    print(f\"Fitting LSTM\")\n",
    "    start = datetime.now()\n",
    "    model.fit(X, y, epochs=epochs, verbose=0)\n",
    "    end = datetime.now()\n",
    "    print(f\"Fit LSTM in {str(end-start)}\")\n",
    "    return model\n",
    "  "
   ]
  },
  {
   "cell_type": "code",
   "execution_count": null,
   "metadata": {},
   "outputs": [],
   "source": [
    "len(downsampled_df)"
   ]
  },
  {
   "cell_type": "code",
   "execution_count": null,
   "metadata": {},
   "outputs": [],
   "source": [
    "from sklearn.metrics import mean_squared_error\n",
    "\n",
    "window_size = 696\n",
    "n_lags = 10\n",
    "epochs = 20\n",
    "refit = False\n",
    "data = downsampled_df[\"count\"].values\n",
    "\n",
    "actuals = []\n",
    "hybrid_predictions = []\n",
    "sarima_predictions = []\n",
    "naive_predictions = []\n",
    "\n",
    "lstm_residual_predictions = []\n",
    "residual_actuals = []\n",
    "\n",
    "\n",
    "\n",
    "for t in range(window_size, len(data)):\n",
    "  print(f\"{t+1} / {len(data)}\")\n",
    "  \n",
    "  train_data = data[t - window_size : t]\n",
    "  actual = data[t]\n",
    "  \n",
    "  naive_predictions.append(data[t-1])\n",
    "  \n",
    "  \n",
    "  # Fit SARIMA\n",
    "  if t == window_size:\n",
    "    sarima_model = fit_sarima(train_data)\n",
    "  sarima_forecast = sarima_model.forecast(steps=1)[0]\n",
    "  sarima_predictions.append(sarima_forecast)\n",
    "  \n",
    "  # Get residuals before adding actual observation\n",
    "  residuals = sarima_model.resid.reshape(-1,1)\n",
    "  residual_actuals.append(actual - sarima_forecast) # är detta verkligen korrekt?\n",
    "  \n",
    "  sarima_model = sarima_model.append([actual], refit=refit)\n",
    "  \n",
    "  \n",
    "  # Scale residuals before passing to LSTM\n",
    "  scaler = StandardScaler()\n",
    "  residuals_scaled = scaler.fit_transform(residuals)\n",
    "  \n",
    "  \n",
    "  # Fit LSTM on residuals\n",
    "  \n",
    "  lstm_fit = fit_lstm(residuals_scaled, n_lags=n_lags, epochs=epochs)\n",
    "  X_input = residuals_scaled[-n_lags:].reshape(1, n_lags, 1)\n",
    "  \n",
    "  # lstm_fit = fit_lstm(scaled_residuals, n_lags=n_lags, epochs=epochs)\n",
    "  \n",
    "  X_input = residuals_scaled[-n_lags:].reshape(1, n_lags, 1)\n",
    "  \n",
    "  # X_input = scaler.transform(residuals[-n_lags:])\n",
    "  \n",
    "  lstm_residual_prediction = lstm_fit.predict(X_input)[0][0]\n",
    "  \n",
    "  # Inverse transform of LSTM output\n",
    "  lstm_residual_prediction = scaler.inverse_transform([[lstm_residual_prediction]])[0][0]\n",
    "  lstm_residual_predictions.append(lstm_residual_prediction)\n",
    "  \n",
    "  \n",
    "  \n",
    "  final_forecast = sarima_forecast + lstm_residual_prediction\n",
    "  \n",
    "  hybrid_predictions.append(final_forecast)\n",
    "  actuals.append(actual)"
   ]
  },
  {
   "cell_type": "code",
   "execution_count": null,
   "metadata": {},
   "outputs": [],
   "source": [
    "sarima_model.summary()"
   ]
  },
  {
   "cell_type": "code",
   "execution_count": null,
   "metadata": {},
   "outputs": [],
   "source": [
    "naive_predictions"
   ]
  },
  {
   "cell_type": "code",
   "execution_count": null,
   "metadata": {},
   "outputs": [],
   "source": [
    "actuals"
   ]
  },
  {
   "cell_type": "code",
   "execution_count": null,
   "metadata": {},
   "outputs": [],
   "source": [
    "sarima_predictions"
   ]
  },
  {
   "cell_type": "code",
   "execution_count": null,
   "metadata": {},
   "outputs": [],
   "source": [
    "hybrid_mse = mean_squared_error(hybrid_predictions, actuals)\n",
    "naive_mse = mean_squared_error(naive_predictions, actuals)\n",
    "sarima_mse = mean_squared_error(sarima_predictions, actuals)\n",
    "\n",
    "hybrid_mae = mean_absolute_error(hybrid_predictions, actuals)\n",
    "naive_mae = mean_absolute_error(naive_predictions, actuals)\n",
    "sarima_mae = mean_absolute_error(sarima_predictions, actuals)\n",
    "\n",
    "print(\"hybrid_mae\", hybrid_mae)\n",
    "print(\"naive_mae\", naive_mae)\n",
    "print(\"sarima_mae\", sarima_mae)\n",
    "\n",
    "\n",
    "plt.plot(actuals, label=\"Actual\")\n",
    "plt.plot(hybrid_predictions, label=\"Hybrid\")\n",
    "plt.plot(naive_predictions, label=\"Naive\")\n",
    "plt.plot(sarima_predictions, label=\"SARIMA\")\n",
    "plt.xlabel(\"Time  (Hour)\")\n",
    "plt.ylabel(\"Requests\")\n",
    "plt.legend()\n",
    "\n",
    "mse_text = (\n",
    "    f\"Hybrid MSE: {hybrid_mse:.2f}\\n\"\n",
    "    f\"Naive MSE: {naive_mse:.2f}\\n\"\n",
    "    f\"SARIMA MSE: {sarima_mse:.2f}\"\n",
    ")\n",
    "plt.text(0.01, 0.95, mse_text, transform=plt.gca().transAxes,\n",
    "         fontsize=10, verticalalignment='top', bbox=dict(facecolor='white', alpha=0.7))\n",
    "\n",
    "plt.tight_layout()\n",
    "filename= f\"figures/ARIMA({p},{d},{q})({P},{D},{Q})-norefit-onestep-scaled.png\"\n",
    "plt.savefig(filename, dpi=300)\n",
    "print(f\"Saved figure to {filename}\")\n",
    "plt.show()"
   ]
  },
  {
   "cell_type": "code",
   "execution_count": null,
   "metadata": {},
   "outputs": [],
   "source": []
  },
  {
   "cell_type": "code",
   "execution_count": null,
   "metadata": {},
   "outputs": [],
   "source": [
    "plt.plot(sarima_model.resid)\n"
   ]
  },
  {
   "cell_type": "code",
   "execution_count": null,
   "metadata": {},
   "outputs": [],
   "source": [
    "plt.plot(residual_actuals, label=\"Actual\")\n",
    "plt.plot(lstm_residual_predictions, label=\"LSTM predict\")\n",
    "plt.xlabel(\"Time (Hours)\")\n",
    "plt.ylabel(\"Residual\")\n",
    "plt.legend()\n",
    "mse_text = (\n",
    "    f\"MSE: {hybrid_mse:.2f}\\n\"\n",
    ")\n",
    "plt.text(0.01, 0.95, mse_text, transform=plt.gca().transAxes,\n",
    "         fontsize=10, verticalalignment='top', bbox=dict(facecolor='white', alpha=0.7))\n",
    "filename= f\"figures/Residuals({p},{d},{q})({P},{D},{Q})-norefit-onestep-scaled.png\"\n",
    "plt.savefig(filename, dpi=300)\n",
    "print(f\"Saved figure to {filename}\")\n",
    "print(mean_squared_error(lstm_residual_predictions, residual_actuals))"
   ]
  },
  {
   "cell_type": "code",
   "execution_count": null,
   "metadata": {},
   "outputs": [],
   "source": [
    "b = np.array([2,3,4])\n",
    "\n",
    "a = StandardScaler()\n",
    "a.fit_transform(b.reshape(-1,1))[0][0]"
   ]
  },
  {
   "cell_type": "code",
   "execution_count": null,
   "metadata": {},
   "outputs": [],
   "source": []
  }
 ],
 "metadata": {
  "kernelspec": {
   "display_name": ".venv",
   "language": "python",
   "name": "python3"
  },
  "language_info": {
   "codemirror_mode": {
    "name": "ipython",
    "version": 3
   },
   "file_extension": ".py",
   "mimetype": "text/x-python",
   "name": "python",
   "nbconvert_exporter": "python",
   "pygments_lexer": "ipython3",
   "version": "3.12.7"
  }
 },
 "nbformat": 4,
 "nbformat_minor": 2
}
